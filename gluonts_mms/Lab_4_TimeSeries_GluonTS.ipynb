{
 "cells": [
  {
   "cell_type": "markdown",
   "metadata": {},
   "source": [
    "# Time Series Analysis with MXNet GluonTS\n",
    "\n",
    "## Problem\n",
    "A **\"forecast\"** is probablistic prediction of certain events in the future based on the past events. Forecasting is a common statistical and machine learning problem which is applied to variety of use cases (from supply/demand prediction to weather forecasts to financial forecasting). When doing forecasting of time-series data you need to consider following:\n",
    "- How many previous events you want to consider when doing forecast (prediction context)?\n",
    "- How far in the future you want to forecast (forecasting horizon);\n",
    "- Is dataset used for forecasting univariate (i.e. single temporal variable available) or multivariate (i.e. several temporal variables available)?\n",
    "- Are there any non-temporal features available?\n",
    "\n",
    "In this lab, we'll predict future consumption of electricity for individual households based on historical data using [Electricity Load dataset](https://archive.ics.uci.edu/ml/datasets/ElectricityLoadDiagrams20112014). We'll use GluonTS toolkit and DeepAR model for it. we'll leverage Sagemaker Training and Hyperparameter Optimization (optional) for it.\n"
   ]
  },
  {
   "cell_type": "markdown",
   "metadata": {},
   "source": [
    "# Prerequisites\n",
    "- Skills: Familiarity with MXNet, Gluon, Python;\n",
    "- Resource: Sagemaker Jupyter notebook, permissions to run Sagemaker distributed training jobs."
   ]
  },
  {
   "cell_type": "markdown",
   "metadata": {},
   "source": [
    "\n",
    "## GluonTS Toolkit\n",
    "[Gluon Time Series](http://gluon-ts.mxnet.io/) (GluonTS) is Gluon toolkit for probabilistic time series modeling, focusing on deep learning-based models. GluonTS provides utilities for loading and iterating over time series datasets, state of the art models, and building blocks to define your own models and to quickly experiment. With GluonTS you can:\n",
    "- Train and evaluate any of the built-in models on your own data, and quickly come up with a solution for your time series tasks.\n",
    "- Use the provided abstractions and building blocks to create custom time series models, and rapidly benchmark them against baseline algorithms.\n",
    "\n",
    "## DeepAR Algorithm\n",
    "\n",
    "The Amazon SageMaker DeepAR forecasting algorithm is a supervised learning algorithm for forecasting scalar (one-dimensional) time series using recurrent neural networks (RNN). RNN is a class of artificial neural networks where connections between nodes form a directed graph along a temporal sequence. This allows it to exhibit temporal dynamic behavior. Derived from feedforward neural networks, RNNs can use their internal state (memory) to process variable length sequences of inputs.\n",
    "\n",
    "Find DeepAR model architecture below ([source](https://arxiv.org/pdf/1704.04110.pdf)):\n",
    "\n",
    "<center><img src='images/deepar.png' width=700></center> "
   ]
  },
  {
   "cell_type": "markdown",
   "metadata": {},
   "source": [
    "# Install GluonTS\n",
    "\n",
    "Let's start by installing **gluonts** package. \n",
    "\n",
    "Please note, that if you see error with gluonts import after its successful installation, please restart your kernel (so it \"pick up\" a newly installed package) and retry."
   ]
  },
  {
   "cell_type": "code",
   "execution_count": 1,
   "metadata": {},
   "outputs": [
    {
     "name": "stdout",
     "output_type": "stream",
     "text": [
      "Collecting gluonts\n",
      "  Downloading gluonts-0.6.4-py3-none-any.whl (569 kB)\n",
      "\u001b[K     |████████████████████████████████| 569 kB 24.1 MB/s eta 0:00:01\n",
      "\u001b[?25hCollecting pydantic<1.7,~=1.1\n",
      "  Downloading pydantic-1.6.1-cp36-cp36m-manylinux2014_x86_64.whl (8.7 MB)\n",
      "\u001b[K     |████████████████████████████████| 8.7 MB 15.4 MB/s eta 0:00:01\n",
      "\u001b[?25hRequirement already satisfied: toolz~=0.10 in /home/ec2-user/anaconda3/envs/mxnet_p36/lib/python3.6/site-packages (from gluonts) (0.10.0)\n",
      "Requirement already satisfied: pandas>=1.0 in /home/ec2-user/anaconda3/envs/mxnet_p36/lib/python3.6/site-packages (from gluonts) (1.0.1)\n",
      "Requirement already satisfied: matplotlib~=3.0 in /home/ec2-user/anaconda3/envs/mxnet_p36/lib/python3.6/site-packages (from gluonts) (3.1.3)\n",
      "Requirement already satisfied: numpy~=1.16 in /home/ec2-user/anaconda3/envs/mxnet_p36/lib/python3.6/site-packages (from gluonts) (1.18.1)\n",
      "Requirement already satisfied: tqdm~=4.23 in /home/ec2-user/anaconda3/envs/mxnet_p36/lib/python3.6/site-packages (from gluonts) (4.42.1)\n",
      "Collecting holidays>=0.9\n",
      "  Downloading holidays-0.10.4.tar.gz (120 kB)\n",
      "\u001b[K     |████████████████████████████████| 120 kB 73.6 MB/s eta 0:00:01\n",
      "\u001b[?25hRequirement already satisfied: ujson~=1.35 in /home/ec2-user/anaconda3/envs/mxnet_p36/lib/python3.6/site-packages (from gluonts) (1.35)\n",
      "Collecting dataclasses>=0.6; python_version < \"3.7\"\n",
      "  Downloading dataclasses-0.8-py3-none-any.whl (19 kB)\n",
      "Requirement already satisfied: pytz>=2017.2 in /home/ec2-user/anaconda3/envs/mxnet_p36/lib/python3.6/site-packages (from pandas>=1.0->gluonts) (2019.3)\n",
      "Requirement already satisfied: python-dateutil>=2.6.1 in /home/ec2-user/anaconda3/envs/mxnet_p36/lib/python3.6/site-packages (from pandas>=1.0->gluonts) (2.8.1)\n",
      "Requirement already satisfied: pyparsing!=2.0.4,!=2.1.2,!=2.1.6,>=2.0.1 in /home/ec2-user/anaconda3/envs/mxnet_p36/lib/python3.6/site-packages (from matplotlib~=3.0->gluonts) (2.4.6)\n",
      "Requirement already satisfied: cycler>=0.10 in /home/ec2-user/anaconda3/envs/mxnet_p36/lib/python3.6/site-packages (from matplotlib~=3.0->gluonts) (0.10.0)\n",
      "Requirement already satisfied: kiwisolver>=1.0.1 in /home/ec2-user/anaconda3/envs/mxnet_p36/lib/python3.6/site-packages (from matplotlib~=3.0->gluonts) (1.1.0)\n",
      "Requirement already satisfied: six in /home/ec2-user/anaconda3/envs/mxnet_p36/lib/python3.6/site-packages (from holidays>=0.9->gluonts) (1.14.0)\n",
      "Collecting convertdate<=2.2.0\n",
      "  Downloading convertdate-2.2.0-py3-none-any.whl (37 kB)\n",
      "Collecting korean_lunar_calendar\n",
      "  Downloading korean_lunar_calendar-0.2.1-py3-none-any.whl (8.0 kB)\n",
      "Requirement already satisfied: setuptools in /home/ec2-user/anaconda3/envs/mxnet_p36/lib/python3.6/site-packages (from kiwisolver>=1.0.1->matplotlib~=3.0->gluonts) (45.2.0.post20200210)\n",
      "Collecting pymeeus<=1,>=0.3.6\n",
      "  Downloading PyMeeus-0.3.7.tar.gz (732 kB)\n",
      "\u001b[K     |████████████████████████████████| 732 kB 59.4 MB/s eta 0:00:01\n",
      "\u001b[?25hBuilding wheels for collected packages: holidays, pymeeus\n",
      "  Building wheel for holidays (setup.py) ... \u001b[?25ldone\n",
      "\u001b[?25h  Created wheel for holidays: filename=holidays-0.10.4-py3-none-any.whl size=124774 sha256=70f43aff3c3b4bfac7502ed313e1ec6769135e54dd3d05a9905c4469d5773aac\n",
      "  Stored in directory: /home/ec2-user/.cache/pip/wheels/24/20/e0/beaaa13a665f8a4fa4bd61ad15293eb37ca88b187c7ae0e019\n",
      "  Building wheel for pymeeus (setup.py) ... \u001b[?25ldone\n",
      "\u001b[?25h  Created wheel for pymeeus: filename=PyMeeus-0.3.7-py3-none-any.whl size=702876 sha256=c3337f5195f5f6eca29c2bb8e036341d3ebd44cb619da466a3c9f1385e1139ba\n",
      "  Stored in directory: /home/ec2-user/.cache/pip/wheels/e9/c3/07/d32faf16682e2cd245be46e4c54053c8c82fa9762f4a4bcc63\n",
      "Successfully built holidays pymeeus\n",
      "Installing collected packages: dataclasses, pydantic, pymeeus, convertdate, korean-lunar-calendar, holidays, gluonts\n",
      "Successfully installed convertdate-2.2.0 dataclasses-0.8 gluonts-0.6.4 holidays-0.10.4 korean-lunar-calendar-0.2.1 pydantic-1.6.1 pymeeus-0.3.7\n",
      "\u001b[33mWARNING: You are using pip version 20.0.2; however, version 20.3.1 is available.\n",
      "You should consider upgrading via the '/home/ec2-user/anaconda3/envs/mxnet_p36/bin/python -m pip install --upgrade pip' command.\u001b[0m\n"
     ]
    }
   ],
   "source": [
    "# Install gluonts\n",
    "!pip install gluonts\n",
    "\n",
    "# test that it's installed\n",
    "import gluonts"
   ]
  },
  {
   "cell_type": "markdown",
   "metadata": {},
   "source": [
    "Now, let's import required packages"
   ]
  },
  {
   "cell_type": "code",
   "execution_count": 8,
   "metadata": {},
   "outputs": [],
   "source": [
    "# MXNet/GluonTS imports\n",
    "import gluonts\n",
    "from gluonts.dataset.repository.datasets import get_dataset, dataset_recipes\n",
    "from gluonts.model.deepar import DeepAREstimator\n",
    "from gluonts.model.deep_factor import DeepFactorEstimator\n",
    "from gluonts.trainer import Trainer\n",
    "from gluonts.dataset.util import to_pandas\n",
    "import mxnet as mx\n",
    "\n",
    "# Standard imports\n",
    "import os\n",
    "from pathlib import Path\n",
    "import boto3"
   ]
  },
  {
   "cell_type": "markdown",
   "metadata": {},
   "source": [
    "# Data Processing"
   ]
  },
  {
   "cell_type": "markdown",
   "metadata": {},
   "source": [
    "### Using GluonTS built-in datasets\n",
    "\n",
    "GluonTS provides convenient mechanisms to manipulate time-series datasets. It also comes with number built-in datasets. Let's start by exploring available datasets. "
   ]
  },
  {
   "cell_type": "code",
   "execution_count": 9,
   "metadata": {},
   "outputs": [
    {
     "name": "stdout",
     "output_type": "stream",
     "text": [
      "Available datasets: ['constant', 'exchange_rate', 'solar-energy', 'electricity', 'traffic', 'exchange_rate_nips', 'electricity_nips', 'traffic_nips', 'solar_nips', 'wiki-rolling_nips', 'taxi_30min', 'm4_hourly', 'm4_daily', 'm4_weekly', 'm4_monthly', 'm4_quarterly', 'm4_yearly', 'm5']\n"
     ]
    }
   ],
   "source": [
    "print(f\"Available datasets: {list(dataset_recipes.keys())}\")"
   ]
  },
  {
   "cell_type": "markdown",
   "metadata": {},
   "source": [
    "GluonTS DataSet object consist of 3 members:\n",
    "- **dataset.train** is an iterable collection of data entries used for training. Each entry corresponds to one time series.\n",
    "- **dataset.test** is an iterable collection of data entries used for validation. The test dataset is an extended version of the train dataset that contains a window in the end of each time series that was not seen during training. This window has length equal to the recommended prediction length.\n",
    "- **dataset.metadata** contains metadata of the dataset such as the frequency of the time series, a recommended prediction horizon, associated features, etc.\n",
    "\n",
    "Let's select _electricity_ dataset and explore it's properties. \n",
    "**Please note**, it will take a few minutes to download dataset."
   ]
  },
  {
   "cell_type": "code",
   "execution_count": 10,
   "metadata": {},
   "outputs": [
    {
     "name": "stdout",
     "output_type": "stream",
     "text": [
      "freq='1H' target=None feat_static_cat=[CategoricalFeatureInfo(name='feat_static_cat', cardinality='321')] feat_static_real=[] feat_dynamic_real=[] feat_dynamic_cat=[] prediction_length=24\n"
     ]
    }
   ],
   "source": [
    "# This will take ~3-5 minutes\n",
    "dataset_name = 'electricity'\n",
    "data_dir = 'gluonts_data' # define local repository where you'd like to store datasets.\n",
    "\n",
    "if not os.path.exists(data_dir):\n",
    "    os.mkdir(data_dir)\n",
    "data_path = Path(os.getcwd()+\"/\"+data_dir)\n",
    "    \n",
    "dataset = get_dataset(\"electricity\", regenerate=False, path=data_path)\n",
    "print(dataset.metadata)"
   ]
  },
  {
   "cell_type": "markdown",
   "metadata": {},
   "source": [
    "### Explore Electricity Dataset\n",
    "\n",
    "Now, let's review test and training time series of electricity dataset."
   ]
  },
  {
   "cell_type": "code",
   "execution_count": 5,
   "metadata": {},
   "outputs": [],
   "source": [
    "import matplotlib.pyplot as plt\n",
    "\n",
    "# get the first time series in the training set\n",
    "train_entry = next(iter(dataset.train))\n",
    "train_entry.keys()\n",
    "\n",
    "# get the first time series in the test set\n",
    "test_entry = next(iter(dataset.test))\n",
    "test_entry.keys()\n",
    "\n",
    "test_series = to_pandas(test_entry)\n",
    "train_series = to_pandas(train_entry)"
   ]
  },
  {
   "cell_type": "code",
   "execution_count": 6,
   "metadata": {},
   "outputs": [],
   "source": [
    "# get only last 48 and 72 hours for train and test respectively\n",
    "train_48 = train_series[-48:]\n",
    "test_72 = test_series[-72:]"
   ]
  },
  {
   "cell_type": "code",
   "execution_count": 7,
   "metadata": {},
   "outputs": [
    {
     "data": {
      "image/png": "[encoded data removed]",
      "text/plain": [
       "<Figure size 720x504 with 2 Axes>"
      ]
     },
     "metadata": {
      "needs_background": "light"
     },
     "output_type": "display_data"
    },
    {
     "name": "stdout",
     "output_type": "stream",
     "text": [
      "Length of forecasting window in test dataset: 24\n",
      "Recommended prediction horizon: 24\n",
      "Frequency of the time series: 1H\n"
     ]
    }
   ],
   "source": [
    "fig, ax = plt.subplots(2, 1, sharex=True, sharey=True, figsize=(10, 7))\n",
    "\n",
    "train_48.plot(ax=ax[0])\n",
    "ax[0].grid(which=\"both\")\n",
    "ax[0].set_ylabel('kWh')\n",
    "ax[0].legend([\"train series\"], loc=\"upper left\")\n",
    "\n",
    "test_72.plot(ax=ax[1])\n",
    "ax[1].axvline(train_series.index[-1], color='r') # end of train dataset\n",
    "ax[1].grid(which=\"both\")\n",
    "ax[1].set_ylabel('kWh')\n",
    "ax[1].legend([\"test series\", \"end of train series\"], loc=\"upper left\")\n",
    "\n",
    "plt.show()\n",
    "\n",
    "print(f\"Length of forecasting window in test dataset: {len(test_series) - len(train_series)}\")\n",
    "print(f\"Recommended prediction horizon: {dataset.metadata.prediction_length}\")\n",
    "print(f\"Frequency of the time series: {dataset.metadata.freq}\")"
   ]
  },
  {
   "cell_type": "markdown",
   "metadata": {},
   "source": [
    "### Upload dataset to S3\n",
    "\n",
    "As we will leverage Amazon Sagemaker for training and inference, it's more convenient and time efficient to store dataset in shared S3 bucket. Code below uploads Electicity data set to specified S3 bucket.\n",
    "\n",
    "## LAB INSTRUCTION\n",
    "\n",
    "Update **bucket**, **region**, and **prefix** variables below. Please make sure that:\n",
    "- bucket has unique name and doesn't exist;\n",
    "- use region where your notebook instance is deployed."
   ]
  },
  {
   "cell_type": "code",
   "execution_count": 5,
   "metadata": {},
   "outputs": [
    {
     "name": "stdout",
     "output_type": "stream",
     "text": [
      "sagemaker-us-east-1-553020858742\n"
     ]
    }
   ],
   "source": [
    "from sagemaker.session import Session\n",
    "\n",
    "session=Session()\n",
    "\n",
    "bucket=session.default_bucket()\n",
    "\n",
    "prefix = \"gluonts-data\"\n",
    "region=session.boto_region_name\n",
    "print(bucket)"
   ]
  },
  {
   "cell_type": "code",
   "execution_count": null,
   "metadata": {},
   "outputs": [],
   "source": []
  },
  {
   "cell_type": "code",
   "execution_count": null,
   "metadata": {},
   "outputs": [],
   "source": [
    "import boto3\n",
    "import os\n",
    "from sagemaker.session import Session\n",
    "\n",
    "# bucket creation is slightly different for us-east-1 vs other regions\n",
    "if region==\"us-east-1\":\n",
    "    os.environ[\"AWS_DEFAULT_REGION\"] = region\n",
    "    s3_client = boto3.client('s3')\n",
    "    s3_client.create_bucket(Bucket=bucket)\n",
    "else:\n",
    "    s3_client = boto3.client('s3', region_name=region)\n",
    "    location = {'LocationConstraint': region}\n",
    "    s3_client.create_bucket(Bucket=bucket,\n",
    "                            CreateBucketConfiguration=location)\n",
    "\n",
    "s3_bucket_resource = boto3.resource('s3').Bucket(bucket)\n",
    "s3_data_uri = \"s3://{}/{}\".format(bucket, prefix) # composing URI for bucket above\n",
    "\n",
    "# Define local files for S3 upload\n",
    "local_metadata = os.path.join(data_path, dataset_name, 'metadata.json')\n",
    "local_train_file = os.path.join(data_path, dataset_name, 'train','data.json')\n",
    "local_test_file = os.path.join(data_path, dataset_name, 'test','data.json')\n",
    "\n",
    "s3_metadata = os.path.join(prefix, 'data', 'metadata.json')\n",
    "s3_bucket_resource.Object(s3_metadata).upload_file(local_metadata)\n",
    "\n",
    "s3_train_file = os.path.join(prefix, 'data', 'train', 'data.json')\n",
    "s3_bucket_resource.Object(s3_train_file).upload_file(local_train_file)\n",
    "\n",
    "s3_test_file = os.path.join(prefix, 'data', 'test', 'data.json')\n",
    "s3_bucket_resource.Object(s3_test_file).upload_file(local_test_file)"
   ]
  },
  {
   "cell_type": "code",
   "execution_count": null,
   "metadata": {},
   "outputs": [],
   "source": [
    "# Let's confirm that data was actually uploaded to S3\n",
    "for my_bucket_object in s3_bucket_resource.objects.all():\n",
    "    print(my_bucket_object)"
   ]
  },
  {
   "cell_type": "markdown",
   "metadata": {},
   "source": [
    "# Sagemaker training\n",
    "\n",
    "Sagemaker provides fully managed training and inference ecosystem. Read about it [here](https://docs.aws.amazon.com/sagemaker/latest/dg/how-it-works-training.html). In this lab, we'll learn how to use Sagemaker managed capabilities to train and use at inference time for trained GluonTS models.\n",
    "\n",
    "GluonTS is a part of MXNet ecosystem, so we'll use Sagemaker [MXNet container](https://github.com/aws/sagemaker-mxnet-container) for training and inference. The Amazon SageMaker Python SDK MXNet estimators and models and the Amazon SageMaker open-source MXNet container make writing a MXNet script and running it in Amazon SageMaker easier.\n",
    "\n",
    "To successfully schedule a Sagemaker training job, we need to specify a training script which will be executed on remote Sagemaker nodes. Execute cell below to review already prepared training script. Read [this article](https://sagemaker.readthedocs.io/en/stable/using_mxnet.html#prepare-an-mxnet-training-script) to learn more about requirements for MXnet training scripts.\n",
    "\n",
    "Please note following key blocks related to training process:\n",
    "- `if __name__ == \"__main__\"` - this code block is executed when we run our training code as script via `python code.py` command. In this block we parse training hyperparameters, call methods to initiate model training and evaluation;\n",
    "- `train()` method implements main training logic;\n",
    "- `evaluate()` method performs evaluation of trained model on test dataset;\n",
    "- `save_trained_model()` methods saves trained model for future use."
   ]
  },
  {
   "cell_type": "code",
   "execution_count": 13,
   "metadata": {},
   "outputs": [
    {
     "name": "stdout",
     "output_type": "stream",
     "text": [
      "\u001b[37m# Standard library imports\u001b[39;49;00m\n",
      "\u001b[34mfrom\u001b[39;49;00m \u001b[04m\u001b[36mpathlib\u001b[39;49;00m \u001b[34mimport\u001b[39;49;00m Path\n",
      "\u001b[34mimport\u001b[39;49;00m \u001b[04m\u001b[36margparse\u001b[39;49;00m\n",
      "\u001b[34mimport\u001b[39;49;00m \u001b[04m\u001b[36mos\u001b[39;49;00m\n",
      "\u001b[34mimport\u001b[39;49;00m \u001b[04m\u001b[36mjson\u001b[39;49;00m\n",
      "\u001b[34mimport\u001b[39;49;00m \u001b[04m\u001b[36mlogging\u001b[39;49;00m\n",
      "\u001b[34mfrom\u001b[39;49;00m \u001b[04m\u001b[36mitertools\u001b[39;49;00m \u001b[34mimport\u001b[39;49;00m islice\n",
      "\u001b[34mfrom\u001b[39;49;00m \u001b[04m\u001b[36mrandom\u001b[39;49;00m \u001b[34mimport\u001b[39;49;00m randint\n",
      "\u001b[34mfrom\u001b[39;49;00m \u001b[04m\u001b[36mpathlib\u001b[39;49;00m \u001b[34mimport\u001b[39;49;00m Path\n",
      "\u001b[34mimport\u001b[39;49;00m \u001b[04m\u001b[36mpandas\u001b[39;49;00m \u001b[34mas\u001b[39;49;00m \u001b[04m\u001b[36mpd\u001b[39;49;00m\n",
      "\n",
      "\n",
      "\u001b[37m# MXNet & GluonTS imports\u001b[39;49;00m\n",
      "\u001b[34mfrom\u001b[39;49;00m \u001b[04m\u001b[36mgluonts\u001b[39;49;00m\u001b[04m\u001b[36m.\u001b[39;49;00m\u001b[04m\u001b[36mdataset\u001b[39;49;00m\u001b[04m\u001b[36m.\u001b[39;49;00m\u001b[04m\u001b[36mrepository\u001b[39;49;00m\u001b[04m\u001b[36m.\u001b[39;49;00m\u001b[04m\u001b[36mdatasets\u001b[39;49;00m \u001b[34mimport\u001b[39;49;00m get_dataset, dataset_recipes\n",
      "\u001b[34mfrom\u001b[39;49;00m \u001b[04m\u001b[36mgluonts\u001b[39;49;00m\u001b[04m\u001b[36m.\u001b[39;49;00m\u001b[04m\u001b[36mmodel\u001b[39;49;00m\u001b[04m\u001b[36m.\u001b[39;49;00m\u001b[04m\u001b[36mdeepar\u001b[39;49;00m \u001b[34mimport\u001b[39;49;00m DeepAREstimator\n",
      "\u001b[34mfrom\u001b[39;49;00m \u001b[04m\u001b[36mgluonts\u001b[39;49;00m\u001b[04m\u001b[36m.\u001b[39;49;00m\u001b[04m\u001b[36mtrainer\u001b[39;49;00m \u001b[34mimport\u001b[39;49;00m Trainer\n",
      "\u001b[34mfrom\u001b[39;49;00m \u001b[04m\u001b[36mgluonts\u001b[39;49;00m\u001b[04m\u001b[36m.\u001b[39;49;00m\u001b[04m\u001b[36mdataset\u001b[39;49;00m\u001b[04m\u001b[36m.\u001b[39;49;00m\u001b[04m\u001b[36mutil\u001b[39;49;00m \u001b[34mimport\u001b[39;49;00m to_pandas\n",
      "\u001b[34mimport\u001b[39;49;00m \u001b[04m\u001b[36mmxnet\u001b[39;49;00m \u001b[34mas\u001b[39;49;00m \u001b[04m\u001b[36mmx\u001b[39;49;00m\n",
      "\u001b[34mfrom\u001b[39;49;00m \u001b[04m\u001b[36mgluonts\u001b[39;49;00m\u001b[04m\u001b[36m.\u001b[39;49;00m\u001b[04m\u001b[36mdataset\u001b[39;49;00m \u001b[34mimport\u001b[39;49;00m common\n",
      "\u001b[34mfrom\u001b[39;49;00m \u001b[04m\u001b[36mgluonts\u001b[39;49;00m\u001b[04m\u001b[36m.\u001b[39;49;00m\u001b[04m\u001b[36mdataset\u001b[39;49;00m\u001b[04m\u001b[36m.\u001b[39;49;00m\u001b[04m\u001b[36mrepository\u001b[39;49;00m \u001b[34mimport\u001b[39;49;00m datasets\n",
      "\u001b[34mfrom\u001b[39;49;00m \u001b[04m\u001b[36mgluonts\u001b[39;49;00m\u001b[04m\u001b[36m.\u001b[39;49;00m\u001b[04m\u001b[36mevaluation\u001b[39;49;00m\u001b[04m\u001b[36m.\u001b[39;49;00m\u001b[04m\u001b[36mbacktest\u001b[39;49;00m \u001b[34mimport\u001b[39;49;00m make_evaluation_predictions\n",
      "\u001b[34mfrom\u001b[39;49;00m \u001b[04m\u001b[36mgluonts\u001b[39;49;00m\u001b[04m\u001b[36m.\u001b[39;49;00m\u001b[04m\u001b[36mevaluation\u001b[39;49;00m \u001b[34mimport\u001b[39;49;00m Evaluator\n",
      "\u001b[34mfrom\u001b[39;49;00m \u001b[04m\u001b[36mgluonts\u001b[39;49;00m\u001b[04m\u001b[36m.\u001b[39;49;00m\u001b[04m\u001b[36mmodel\u001b[39;49;00m\u001b[04m\u001b[36m.\u001b[39;49;00m\u001b[04m\u001b[36mpredictor\u001b[39;49;00m \u001b[34mimport\u001b[39;49;00m Predictor\n",
      "\u001b[34mfrom\u001b[39;49;00m \u001b[04m\u001b[36mgluonts\u001b[39;49;00m\u001b[04m\u001b[36m.\u001b[39;49;00m\u001b[04m\u001b[36mdataset\u001b[39;49;00m\u001b[04m\u001b[36m.\u001b[39;49;00m\u001b[04m\u001b[36mcommon\u001b[39;49;00m \u001b[34mimport\u001b[39;49;00m ListDataset\n",
      "\n",
      "\n",
      "\u001b[37m# Logging: print logs analogously to Sagemaker.\u001b[39;49;00m\n",
      "logger = logging.getLogger(\u001b[31m__name__\u001b[39;49;00m)\n",
      "    \n",
      "\n",
      "\u001b[34mdef\u001b[39;49;00m \u001b[32m_get_local_dataset\u001b[39;49;00m(dataset_location=\u001b[34mNone\u001b[39;49;00m):\n",
      "    \u001b[33m\"\"\"\u001b[39;49;00m\n",
      "\u001b[33m    This method returns dataset stored locally by Sagemaker. \u001b[39;49;00m\n",
      "\u001b[33m    If no param dataset_location is not provided, it will download a new dataset using GluonTS native method.\u001b[39;49;00m\n",
      "\u001b[33m    \"\"\"\u001b[39;49;00m    \n",
      "    \u001b[34mif\u001b[39;49;00m dataset_location \u001b[35mis\u001b[39;49;00m \u001b[34mNone\u001b[39;49;00m: \u001b[37m#if S3 not provided, downloading data locally on Sagemaker nodes.\u001b[39;49;00m\n",
      "        dataset = get_dataset(\u001b[33m\"\u001b[39;49;00m\u001b[33melectricity\u001b[39;49;00m\u001b[33m\"\u001b[39;49;00m, regenerate=\u001b[34mFalse\u001b[39;49;00m)\n",
      "    \n",
      "    \u001b[34melse\u001b[39;49;00m:  \u001b[37m#if S3 bucket is specified in os.environ['SM_CHANNEL_TRAINING'], that means that Sagemaker automatically download dataset locally. So no need to download it again.\u001b[39;49;00m\n",
      "        logger.info(\u001b[33m\"\u001b[39;49;00m\u001b[33mAttempting to get GluonTS dataset from \u001b[39;49;00m\u001b[33m{}\u001b[39;49;00m\u001b[33m\"\u001b[39;49;00m.format(dataset_location))\n",
      "        root_dir = os.path.join(dataset_location, \u001b[33m\"\u001b[39;49;00m\u001b[33mdata\u001b[39;49;00m\u001b[33m\"\u001b[39;49;00m)\n",
      "        train_dir = os.path.join(root_dir, \u001b[33m\"\u001b[39;49;00m\u001b[33mtrain\u001b[39;49;00m\u001b[33m\"\u001b[39;49;00m)\n",
      "        test_dir = os.path.join(root_dir, \u001b[33m\"\u001b[39;49;00m\u001b[33mtest\u001b[39;49;00m\u001b[33m\"\u001b[39;49;00m)\n",
      "\n",
      "        dataset = common.load_datasets(\n",
      "            metadata=root_dir,\n",
      "            train=train_dir,\n",
      "            test=test_dir)\n",
      "        \n",
      "    logger.info(\u001b[33m\"\u001b[39;49;00m\u001b[33mGluonTS dataset retrieved successfully...\u001b[39;49;00m\u001b[33m\"\u001b[39;49;00m)\n",
      "        \n",
      "    \u001b[34mreturn\u001b[39;49;00m dataset\n",
      "        \n",
      "\n",
      "\n",
      "\u001b[34mdef\u001b[39;49;00m \u001b[32mtrain\u001b[39;49;00m(args):\n",
      "    \u001b[33m\"\"\"\u001b[39;49;00m\n",
      "\u001b[33m    Main training method. Takes training parameters from Argparser and performs training using DeepAR estimator.\u001b[39;49;00m\n",
      "\u001b[33m    \"\"\"\u001b[39;49;00m\n",
      "    \n",
      "    dataset = _get_local_dataset(os.environ[\u001b[33m'\u001b[39;49;00m\u001b[33mSM_CHANNEL_TRAINING\u001b[39;49;00m\u001b[33m'\u001b[39;49;00m])\n",
      "    freq = dataset.metadata.freq \u001b[34mif\u001b[39;49;00m args.freq==\u001b[34mNone\u001b[39;49;00m \u001b[34melse\u001b[39;49;00m args.freq \u001b[37m# If user doesn't specify frequency, then default frequency is used for given dataset.\u001b[39;49;00m\n",
      "    cardinality = [\u001b[36mint\u001b[39;49;00m(dataset.metadata.feat_static_cat[\u001b[34m0\u001b[39;49;00m].cardinality)] \u001b[34mif\u001b[39;49;00m dataset.metadata.feat_static_cat!=[] \u001b[35mand\u001b[39;49;00m args.use_static_features \u001b[34melse\u001b[39;49;00m \u001b[34mNone\u001b[39;49;00m\n",
      "    prediction_lenght = dataset.metadata.prediction_length \u001b[37m# default prediction lenght for dataset is used\u001b[39;49;00m\n",
      "    \n",
      "    device = mx.context.gpu() \u001b[34mif\u001b[39;49;00m mx.context.num_gpus()>\u001b[34m0\u001b[39;49;00m \u001b[34melse\u001b[39;49;00m mx.context.cpu() \u001b[37m# if GPU device is available, then use it. Otherwise, CPU.\u001b[39;49;00m\n",
      "    \n",
      "    trainer = Trainer(ctx=device, \n",
      "                      epochs=args.epochs, \n",
      "                      hybridize=\u001b[34mTrue\u001b[39;49;00m,\n",
      "                      num_batches_per_epoch=args.batches_per_epoch)\n",
      "    \n",
      "    estimator = DeepAREstimator(freq=freq, \n",
      "                                prediction_length=prediction_lenght, \u001b[37m# recommended by electricity dataset.\u001b[39;49;00m\n",
      "                                context_length=args.context_length, \u001b[37m# default for model\u001b[39;49;00m\n",
      "                                num_layers=args.num_layers, \u001b[37m# default for model\u001b[39;49;00m\n",
      "                                num_cells=args.num_cells, \u001b[37m#default for model\u001b[39;49;00m\n",
      "                                cell_type=\u001b[33m'\u001b[39;49;00m\u001b[33mlstm\u001b[39;49;00m\u001b[33m'\u001b[39;49;00m, \u001b[37m#default for model\u001b[39;49;00m\n",
      "                                use_feat_static_cat = args.use_static_features, \u001b[37m# as dataset has static feature, let's use them.\u001b[39;49;00m\n",
      "                                cardinality=cardinality, \u001b[37m# recommended by electricity dataset\u001b[39;49;00m\n",
      "                                embedding_dimension=[\u001b[34m50\u001b[39;49;00m], \u001b[37m# default value is [min(50, (cat + 1) // 2) for cat in self.cardinality\u001b[39;49;00m\n",
      "                                scaling=\u001b[34mTrue\u001b[39;49;00m, \u001b[37m# default for model\u001b[39;49;00m\n",
      "                                dropout_rate=args.dropout, \u001b[37m# default for model\u001b[39;49;00m\n",
      "                                trainer=trainer\n",
      "                                )\n",
      "        \n",
      "    predictor = estimator.train(training_data=dataset.train)\n",
      "    \u001b[34mreturn\u001b[39;49;00m predictor\n",
      "\n",
      "\u001b[34mdef\u001b[39;49;00m \u001b[32mevaluate\u001b[39;49;00m(predictor, model_type):\n",
      "    dataset = _get_local_dataset(os.environ[\u001b[33m'\u001b[39;49;00m\u001b[33mSM_CHANNEL_TRAINING\u001b[39;49;00m\u001b[33m'\u001b[39;49;00m])\n",
      "    forecast_it, ts_it = make_evaluation_predictions(dataset.test, predictor=predictor, num_samples=\u001b[34m100\u001b[39;49;00m)\n",
      "    forecasts = \u001b[36mlist\u001b[39;49;00m(forecast_it)\n",
      "    tss = \u001b[36mlist\u001b[39;49;00m(ts_it)\n",
      "    _plot_forecasts(tss, forecasts, model_type, past_length=\u001b[34m150\u001b[39;49;00m, num_plots=\u001b[34m3\u001b[39;49;00m)\n",
      "    evaluator = Evaluator(quantiles=[\u001b[34m0.5\u001b[39;49;00m])\n",
      "    agg_metrics, item_metrics = evaluator(\u001b[36miter\u001b[39;49;00m(tss), \u001b[36miter\u001b[39;49;00m(forecasts), num_series=\u001b[36mlen\u001b[39;49;00m(dataset.test))\n",
      "    logger.info(agg_metrics)\n",
      "\n",
      "\n",
      "\u001b[34mdef\u001b[39;49;00m \u001b[32m_plot_forecasts\u001b[39;49;00m(tss, forecasts, model_type, past_length, num_plots):\n",
      "    \n",
      "    \u001b[34mimport\u001b[39;49;00m \u001b[04m\u001b[36mmatplotlib\u001b[39;49;00m\u001b[04m\u001b[36m.\u001b[39;49;00m\u001b[04m\u001b[36mpyplot\u001b[39;49;00m \u001b[34mas\u001b[39;49;00m \u001b[04m\u001b[36mplt\u001b[39;49;00m\n",
      "    \n",
      "    random_id = randint(\u001b[34m0\u001b[39;49;00m,\u001b[34m1000\u001b[39;49;00m)\n",
      "    plot_id = \u001b[34m1\u001b[39;49;00m\n",
      "\n",
      "    \u001b[34mfor\u001b[39;49;00m target, forecast \u001b[35min\u001b[39;49;00m islice(\u001b[36mzip\u001b[39;49;00m(tss, forecasts), num_plots):\n",
      "        ax = target[-past_length:].plot(figsize=(\u001b[34m12\u001b[39;49;00m, \u001b[34m5\u001b[39;49;00m), linewidth=\u001b[34m2\u001b[39;49;00m)\n",
      "        forecast.plot(color=\u001b[33m'\u001b[39;49;00m\u001b[33mg\u001b[39;49;00m\u001b[33m'\u001b[39;49;00m)\n",
      "        plt.grid(which=\u001b[33m'\u001b[39;49;00m\u001b[33mboth\u001b[39;49;00m\u001b[33m'\u001b[39;49;00m)\n",
      "        plt.legend([\u001b[33m\"\u001b[39;49;00m\u001b[33mobservations\u001b[39;49;00m\u001b[33m\"\u001b[39;49;00m, \u001b[33m\"\u001b[39;49;00m\u001b[33mmedian prediction\u001b[39;49;00m\u001b[33m\"\u001b[39;49;00m, \u001b[33m\"\u001b[39;49;00m\u001b[33m90\u001b[39;49;00m\u001b[33m% c\u001b[39;49;00m\u001b[33monfidence interval\u001b[39;49;00m\u001b[33m\"\u001b[39;49;00m, \u001b[33m\"\u001b[39;49;00m\u001b[33m50\u001b[39;49;00m\u001b[33m% c\u001b[39;49;00m\u001b[33monfidence interval\u001b[39;49;00m\u001b[33m\"\u001b[39;49;00m])\n",
      "        plt.title(\u001b[33m'\u001b[39;49;00m\u001b[33mEvaluation results for \u001b[39;49;00m\u001b[33m{}\u001b[39;49;00m\u001b[33m model\u001b[39;49;00m\u001b[33m'\u001b[39;49;00m.format(model_type))\n",
      "        plt.show()\n",
      "        plt.savefig(os.environ[\u001b[33m'\u001b[39;49;00m\u001b[33mSM_OUTPUT_DATA_DIR\u001b[39;49;00m\u001b[33m'\u001b[39;49;00m]+\u001b[33m'\u001b[39;49;00m\u001b[33m/chart_\u001b[39;49;00m\u001b[33m{}\u001b[39;49;00m\u001b[33m-\u001b[39;49;00m\u001b[33m{}\u001b[39;49;00m\u001b[33m.png\u001b[39;49;00m\u001b[33m'\u001b[39;49;00m.format(plot_id, random_id))\n",
      "        plot_id += \u001b[34m1\u001b[39;49;00m\n",
      "    \n",
      "\u001b[34mdef\u001b[39;49;00m \u001b[32msave_trained_model\u001b[39;49;00m(predictor):\n",
      "    \u001b[33m\"\"\"\u001b[39;49;00m\n",
      "\u001b[33m    Serializes GluonTS predictor and saves in Sagemaker model directory (defined in 'SM_MODEL_DIR' environmental variable).\u001b[39;49;00m\n",
      "\u001b[33m    Sagemaker will automatically upload model artifacts at the end of training job.\u001b[39;49;00m\n",
      "\u001b[33m    \"\"\"\u001b[39;49;00m\n",
      "    predictor.serialize(Path(os.environ[\u001b[33m'\u001b[39;49;00m\u001b[33mSM_MODEL_DIR\u001b[39;49;00m\u001b[33m'\u001b[39;49;00m]))\n",
      "\n",
      "    \n",
      "\u001b[34mdef\u001b[39;49;00m \u001b[32mmodel_fn\u001b[39;49;00m(model_dir):\n",
      "    \u001b[33m\"\"\"\u001b[39;49;00m\n",
      "\u001b[33m    Loads trained model and returns GluonTS predictor.\u001b[39;49;00m\n",
      "\u001b[33m    \"\"\"\u001b[39;49;00m\n",
      "    logger.info(\u001b[33mf\u001b[39;49;00m\u001b[33m\"\u001b[39;49;00m\u001b[33mLoading model from \u001b[39;49;00m\u001b[33m{model_dir}\u001b[39;49;00m\u001b[33m\"\u001b[39;49;00m)\n",
      "    predictor_deserialized = Predictor.deserialize(Path(model_dir))\n",
      "    \n",
      "    \u001b[34mreturn\u001b[39;49;00m predictor_deserialized\n",
      "\n",
      "\n",
      "\u001b[34mdef\u001b[39;49;00m \u001b[32mtransform_fn\u001b[39;49;00m(model, data, content_type, output_content_type):\n",
      "    \u001b[33m\"\"\"\u001b[39;49;00m\n",
      "\u001b[33m    Parses request for prediction and returns predictions, where:\u001b[39;49;00m\n",
      "\u001b[33m        - model is the model objected loaded by model_fn, \u001b[39;49;00m\n",
      "\u001b[33m        - request_body is the data from the inference request, \u001b[39;49;00m\n",
      "\u001b[33m        - content_type is the content type of the request, \u001b[39;49;00m\n",
      "\u001b[33m        - accept_type is the request content type for the response.\u001b[39;49;00m\n",
      "\u001b[33m        \u001b[39;49;00m\n",
      "\u001b[33m    Returns on of the following:\u001b[39;49;00m\n",
      "\u001b[33m        - a tuple with two items: the response data and accept_type (the content type of the response data), OR\u001b[39;49;00m\n",
      "\u001b[33m        - the response data: (the content type of the response is set to either the accept header in the initial request or default to “application/json”)\u001b[39;49;00m\n",
      "\u001b[33m    \"\"\"\u001b[39;49;00m\n",
      "    \n",
      "    deser_data = pd.read_json(data, typ=\u001b[33m'\u001b[39;49;00m\u001b[33mseries\u001b[39;49;00m\u001b[33m'\u001b[39;49;00m)\n",
      "    test_data = ListDataset([{\u001b[33m\"\u001b[39;49;00m\u001b[33mstart\u001b[39;49;00m\u001b[33m\"\u001b[39;49;00m: deser_data.index[\u001b[34m0\u001b[39;49;00m],\n",
      "                              \u001b[33m\"\u001b[39;49;00m\u001b[33mtarget\u001b[39;49;00m\u001b[33m\"\u001b[39;49;00m: deser_data.values,\n",
      "                              \u001b[33m\"\u001b[39;49;00m\u001b[33mfeat_static_cat\u001b[39;49;00m\u001b[33m\"\u001b[39;49;00m:[\u001b[34m0\u001b[39;49;00m]}], \u001b[37m# Defining feat_static_cat seems like stub because of GluonTS underlying API issues.\u001b[39;49;00m\n",
      "                            freq=\u001b[33m\"\u001b[39;49;00m\u001b[33m1H\u001b[39;49;00m\u001b[33m\"\u001b[39;49;00m)\n",
      "    \n",
      "    forecast_it, ts_it = make_evaluation_predictions(test_data, model,  num_samples=\u001b[34m100\u001b[39;49;00m)\n",
      "    response_body = json.dumps({\u001b[33m'\u001b[39;49;00m\u001b[33mpredictions\u001b[39;49;00m\u001b[33m'\u001b[39;49;00m:\u001b[36mlist\u001b[39;49;00m(forecast_it)[\u001b[34m0\u001b[39;49;00m].samples.tolist()[\u001b[34m0\u001b[39;49;00m]})\n",
      "    \n",
      "    logger.info(\u001b[33m\"\u001b[39;49;00m\u001b[33mCompleted predictions successfully.\u001b[39;49;00m\u001b[33m\"\u001b[39;49;00m)\n",
      "    \n",
      "    \u001b[34mreturn\u001b[39;49;00m response_body, output_content_type\n",
      "    \n",
      "    \n",
      "\u001b[34mif\u001b[39;49;00m \u001b[31m__name__\u001b[39;49;00m == \u001b[33m\"\u001b[39;49;00m\u001b[33m__main__\u001b[39;49;00m\u001b[33m\"\u001b[39;49;00m:\n",
      "    \u001b[33m\"\"\"\u001b[39;49;00m\n",
      "\u001b[33m    At training time, Sagemaker executes code below.\u001b[39;49;00m\n",
      "\u001b[33m    At inference time, Sagemaker calls reserved functions such as transform_fn and model_fn.\u001b[39;49;00m\n",
      "\u001b[33m    \"\"\"\u001b[39;49;00m\n",
      "    \n",
      "    parser = argparse.ArgumentParser()\n",
      "    \n",
      "    parser.add_argument(\u001b[33m'\u001b[39;49;00m\u001b[33m--freq\u001b[39;49;00m\u001b[33m'\u001b[39;49;00m, \u001b[36mtype\u001b[39;49;00m=\u001b[36mstr\u001b[39;49;00m, default=\u001b[34mNone\u001b[39;49;00m)\n",
      "    parser.add_argument(\u001b[33m'\u001b[39;49;00m\u001b[33m--epochs\u001b[39;49;00m\u001b[33m'\u001b[39;49;00m, \u001b[36mtype\u001b[39;49;00m=\u001b[36mint\u001b[39;49;00m, default=\u001b[34m5\u001b[39;49;00m)\n",
      "    parser.add_argument(\u001b[33m'\u001b[39;49;00m\u001b[33m--batches-per-epoch\u001b[39;49;00m\u001b[33m'\u001b[39;49;00m, \u001b[36mtype\u001b[39;49;00m=\u001b[36mint\u001b[39;49;00m, default=\u001b[34m100\u001b[39;49;00m)\n",
      "    parser.add_argument(\u001b[33m'\u001b[39;49;00m\u001b[33m--prediction-length\u001b[39;49;00m\u001b[33m'\u001b[39;49;00m, \u001b[36mtype\u001b[39;49;00m=\u001b[36mint\u001b[39;49;00m, default=\u001b[34m24\u001b[39;49;00m)\n",
      "    parser.add_argument(\u001b[33m'\u001b[39;49;00m\u001b[33m--context-length\u001b[39;49;00m\u001b[33m'\u001b[39;49;00m, \u001b[36mtype\u001b[39;49;00m=\u001b[36mint\u001b[39;49;00m, default=\u001b[34m24\u001b[39;49;00m)\n",
      "    parser.add_argument(\u001b[33m'\u001b[39;49;00m\u001b[33m--use-static-features\u001b[39;49;00m\u001b[33m'\u001b[39;49;00m, \u001b[36mtype\u001b[39;49;00m=\u001b[36mbool\u001b[39;49;00m, default=\u001b[34mTrue\u001b[39;49;00m)\n",
      "    parser.add_argument(\u001b[33m'\u001b[39;49;00m\u001b[33m--cardinality\u001b[39;49;00m\u001b[33m'\u001b[39;49;00m, \u001b[36mtype\u001b[39;49;00m=\u001b[36mint\u001b[39;49;00m, default=\u001b[34m321\u001b[39;49;00m)\n",
      "    parser.add_argument(\u001b[33m'\u001b[39;49;00m\u001b[33m--dropout\u001b[39;49;00m\u001b[33m'\u001b[39;49;00m, \u001b[36mtype\u001b[39;49;00m=\u001b[36mfloat\u001b[39;49;00m, default=\u001b[34m0.1\u001b[39;49;00m)\n",
      "    parser.add_argument(\u001b[33m'\u001b[39;49;00m\u001b[33m--num-layers\u001b[39;49;00m\u001b[33m'\u001b[39;49;00m, \u001b[36mtype\u001b[39;49;00m=\u001b[36mint\u001b[39;49;00m, default=\u001b[34m2\u001b[39;49;00m)\n",
      "    parser.add_argument(\u001b[33m'\u001b[39;49;00m\u001b[33m--num-cells\u001b[39;49;00m\u001b[33m'\u001b[39;49;00m, \u001b[36mtype\u001b[39;49;00m=\u001b[36mint\u001b[39;49;00m, default=\u001b[34m40\u001b[39;49;00m)\n",
      "    \n",
      "    args = parser.parse_args()\n",
      "    \n",
      "    \n",
      "    \u001b[37m# Code below is executed at training time.\u001b[39;49;00m\n",
      "    predictor = train(args)\n",
      "    evaluate(predictor, \u001b[33m\"\u001b[39;49;00m\u001b[33mdeepar\u001b[39;49;00m\u001b[33m\"\u001b[39;49;00m)\n",
      "    save_trained_model(predictor)\n",
      "    \n",
      "    \n",
      "    \n",
      "\n",
      "    \n",
      "    \n",
      "    \n",
      "    \n",
      "        \n"
     ]
    }
   ],
   "source": [
    "!pygmentize src/gluonts_training_script.py"
   ]
  },
  {
   "cell_type": "markdown",
   "metadata": {},
   "source": [
    "Now, once we have understanding about our training & inference script, let's schedule our first Sagemaker training job.\n",
    "\n",
    "## LAB INSTRUCTIONS\n",
    "\n",
    "Define following parameters of distributed training:\n",
    "- set **train_instance_type** as **'ml.p3.2xlarge'** - this is an instance type Sagemaker will use for training;\n",
    "- set **train_instance_count** as **1** - this is a training script Sagemaker will run on training node(s);\n",
    "- set **source_dir** as **'src'** - Sagemaker will upload content of this folder to training node(s);\n",
    "- set **entry_point** as **'gluonts_training_script.py'** - Sagemaker will use this script to run training & inference."
   ]
  },
  {
   "cell_type": "code",
   "execution_count": 14,
   "metadata": {},
   "outputs": [],
   "source": [
    "train_instance_type =   \"ml.p3.2xlarge\"   # follow instructions above\n",
    "train_instance_count =  1   # follow instructions above\n",
    "source_dir =        \"src\"       # follow instructions above\n",
    "entry_point=  \"gluonts_training_script.py\"             # follow instructions above"
   ]
  },
  {
   "cell_type": "markdown",
   "metadata": {},
   "source": [
    "Sagemaker allows you to define specific metrics which will be scraped from training logs and displayed in training jobs console."
   ]
  },
  {
   "cell_type": "code",
   "execution_count": 15,
   "metadata": {},
   "outputs": [],
   "source": [
    "# Define metrics which we want Sagemaker to capture during training\n",
    "metric_definitions = [{'Name': 'final-loss', 'Regex': 'Final loss: ([0-9\\.]+)'},\n",
    "                      {'Name': 'avg-epoch-loss', 'Regex': 'avg_epoch_loss=([0-9\\.]+)' },\n",
    "                      {'Name': 'MASE', 'Regex': '\\'MASE\\': ([0-9\\.]+)'}, # mean absolute scaled error - mean absolute error of the forecast values, divided by the mean absolute error of the in-sample one-step naive forecast\n",
    "                      {'Name': 'sMAPE', 'Regex': '\\'sMAPE\\': ([0-9\\.]+)'}, # symmetric mean absolute percentage error\n",
    "                      {'Name': 'MSE', 'Regex': '\\'MSE\\': ([0-9\\.]+)'},\n",
    "                      {'Name': 'MAE_Coverage', 'Regex': '\\'MAE_Coverage\\': ([0-9\\.]+)'}, \n",
    "                      {'Name': 'RMSE', 'Regex': '\\'RMSE\\': ([0-9\\.]+)'}, #root mean square error\n",
    "                      {'Name': 'NRMSE', 'Regex': '\\'NRMSE\\': ([0-9\\.]+)'}, #root mean square error                      \n",
    "                     ]"
   ]
  },
  {
   "cell_type": "markdown",
   "metadata": {},
   "source": [
    "Let's also define some hyperparameters of DeepAR model\n",
    "\n",
    "## LAB INSTRUCTIONS\n",
    "\n",
    "Define following parameters of distributed training:\n",
    "- set **epochs** to **10**;\n",
    "- set **num-cells** to **20** - this is number of units;\n",
    "- set **num-layers** to **2** - this is number of RNN layers;\n",
    "- set **dropout** to **0.2**"
   ]
  },
  {
   "cell_type": "code",
   "execution_count": 16,
   "metadata": {},
   "outputs": [],
   "source": [
    "hyperparameters={\n",
    "              'epochs':    10   , # follow instructions above\n",
    "              'num-cells':  20  , # follow instructions above\n",
    "              'num-layers':  2 , # follow instructions above\n",
    "              'dropout':     0.2   # follow instructions above\n",
    "          }"
   ]
  },
  {
   "cell_type": "code",
   "execution_count": null,
   "metadata": {},
   "outputs": [],
   "source": [
    "import io\n",
    "import os\n",
    "import json\n",
    "import zipfile\n",
    "import urllib\n",
    "\n",
    "import numpy as np\n",
    "import pandas as pd\n",
    "import sagemaker\n",
    "from sagemaker import get_execution_role\n",
    "from sagemaker.mxnet import MXNet\n",
    "from sagemaker.session import Session\n",
    "from random import randint # to generate random ids for sagemaker jobs. TODO add some hashing function that guarantees that the won't be duplicates\n",
    "from sagemaker.tuner import IntegerParameter, CategoricalParameter, ContinuousParameter, HyperparameterTuner\n",
    "\n",
    "role = get_execution_role()\n",
    "\n",
    "mxnet_estimator = MXNet(entry_point= entry_point    ,# follow instuctions above\n",
    "          source_dir= source_dir          ,# follow instuctions above  \n",
    "          py_version='py3',\n",
    "          role=role, \n",
    "          train_instance_count=train_instance_count,\n",
    "          train_instance_type=train_instance_type,    \n",
    "          hyperparameters=hyperparameters,\n",
    "          input_mode='File',\n",
    "          train_max_run=7200,\n",
    "          metric_definitions=metric_definitions,\n",
    "          framework_version='1.6.0')\n",
    "\n",
    "mxnet_estimator.fit(inputs=s3_data_uri, logs=True)"
   ]
  },
  {
   "cell_type": "markdown",
   "metadata": {},
   "source": [
    "### Evaluating training results\n",
    "\n",
    "As part of our training job, we also evaluated trained model against unseen test data (3 different samples) and plotted the forecasts along with historical data. Sagemaker uploads all training job artifacts to S3. Let's retrieve training artifacts from S3 and review them. \n",
    "\n",
    "**Please note**, that charts below are rendered for 3 different data samples."
   ]
  },
  {
   "cell_type": "code",
   "execution_count": null,
   "metadata": {},
   "outputs": [],
   "source": [
    "from urllib.parse import urlparse # We'll use this package to parse S3 URI\n",
    "import boto3\n",
    "\n",
    "# Works for default S3 location for Sagemaker training job. If you provided custom location, you'll need ot modify it accordingly.\n",
    "job_bucket = mxnet_estimator.latest_training_job.describe()['OutputDataConfig']['S3OutputPath']\n",
    "job_path = mxnet_estimator.latest_training_job.job_name\n",
    "artifact_uri = '{}{}'.format(job_bucket,job_path)\n",
    "uri_object = urlparse(artifact_uri)\n",
    "\n",
    "# Download archive with evaluation artifacts locally\n",
    "archive_filename = \"artifacts.tar.gz\"\n",
    "boto3.client(uri_object.scheme).download_file(uri_object.netloc, \n",
    "                                              \"{}/output/output.tar.gz\".format(job_path), \n",
    "                                              archive_filename)\n",
    "\n",
    "# Untar artifact archive\n",
    "import tarfile\n",
    "tf = tarfile.open(archive_filename)\n",
    "tf.extractall()\n",
    "\n",
    "# Display images which match specific filename pattern \"chart*.png\"\n",
    "from IPython.display import Image, display\n",
    "import fnmatch \n",
    "\n",
    "pattern = 'chart*.png'\n",
    "files = os.listdir('.')\n",
    "\n",
    "listOfImageNames = []\n",
    "\n",
    "for name in files:\n",
    "    if fnmatch.fnmatch(name, pattern):\n",
    "        listOfImageNames.append(name)\n",
    "\n",
    "for imageName in listOfImageNames:\n",
    "    display(Image(filename=imageName, width=800))"
   ]
  },
  {
   "cell_type": "markdown",
   "metadata": {},
   "source": [
    "## Build MultiModel Forecasting APIs\n",
    "\n",
    "In many instances we may want to have multiple forecasting models deployed behind the same endpoint. For example, when we are predicting retail sales in individual georgaphical areas, where each area will have its own forecasting model.\n",
    "\n",
    "To host multiple models behing single Sagemaker endpoint, we'll use [Multi-Model Server](https://github.com/awslabs/multi-model-server). First, let's start from building serving container with MMS and GluonTS."
   ]
  },
  {
   "cell_type": "code",
   "execution_count": 15,
   "metadata": {},
   "outputs": [
    {
     "name": "stdout",
     "output_type": "stream",
     "text": [
      "WARNING! Your password will be stored unencrypted in /home/ec2-user/.docker/config.json.\n",
      "Configure a credential helper to remove this warning. See\n",
      "https://docs.docker.com/engine/reference/commandline/login/#credentials-store\n",
      "\n",
      "Login Succeeded\n",
      "WARNING! Your password will be stored unencrypted in /home/ec2-user/.docker/config.json.\n",
      "Configure a credential helper to remove this warning. See\n",
      "https://docs.docker.com/engine/reference/commandline/login/#credentials-store\n",
      "\n",
      "Login Succeeded\n"
     ]
    }
   ],
   "source": [
    "# loging to Sagemaker ECR with Deep Learning Containers\n",
    "!aws ecr get-login-password --region us-east-1 | docker login --username AWS --password-stdin 763104351884.dkr.ecr.us-east-1.amazonaws.com\n",
    "# loging to your private ECR\n",
    "!aws ecr get-login-password --region us-east-1 | docker login --username AWS --password-stdin 553020858742.dkr.ecr.us-east-1.amazonaws.com"
   ]
  },
  {
   "cell_type": "code",
   "execution_count": null,
   "metadata": {},
   "outputs": [],
   "source": [
    "!./build_and_push.sh gluonts-serving latest Dockerfile.serving"
   ]
  },
  {
   "cell_type": "markdown",
   "metadata": {},
   "source": [
    "## Create Inference Script\n",
    "\n",
    "To serve models, we need to provide MMS with inference script which implements the logic of model loading, ser/deser of input and output inferences traffic, and running predictions."
   ]
  },
  {
   "cell_type": "code",
   "execution_count": 135,
   "metadata": {},
   "outputs": [
    {
     "name": "stdout",
     "output_type": "stream",
     "text": [
      "\u001b[37m# Standard library imports\u001b[39;49;00m\n",
      "\u001b[34mfrom\u001b[39;49;00m \u001b[04m\u001b[36mpathlib\u001b[39;49;00m \u001b[34mimport\u001b[39;49;00m Path\n",
      "\u001b[34mimport\u001b[39;49;00m \u001b[04m\u001b[36margparse\u001b[39;49;00m\n",
      "\u001b[34mimport\u001b[39;49;00m \u001b[04m\u001b[36mos\u001b[39;49;00m\n",
      "\u001b[34mimport\u001b[39;49;00m \u001b[04m\u001b[36mjson\u001b[39;49;00m\n",
      "\u001b[34mimport\u001b[39;49;00m \u001b[04m\u001b[36mlogging\u001b[39;49;00m\n",
      "\u001b[34mfrom\u001b[39;49;00m \u001b[04m\u001b[36mitertools\u001b[39;49;00m \u001b[34mimport\u001b[39;49;00m islice\n",
      "\u001b[34mfrom\u001b[39;49;00m \u001b[04m\u001b[36mrandom\u001b[39;49;00m \u001b[34mimport\u001b[39;49;00m randint\n",
      "\u001b[34mfrom\u001b[39;49;00m \u001b[04m\u001b[36mpathlib\u001b[39;49;00m \u001b[34mimport\u001b[39;49;00m Path\n",
      "\u001b[34mimport\u001b[39;49;00m \u001b[04m\u001b[36mpandas\u001b[39;49;00m \u001b[34mas\u001b[39;49;00m \u001b[04m\u001b[36mpd\u001b[39;49;00m\n",
      "\n",
      "\n",
      "\u001b[37m# MXNet & GluonTS imports\u001b[39;49;00m\n",
      "\u001b[34mfrom\u001b[39;49;00m \u001b[04m\u001b[36mgluonts\u001b[39;49;00m\u001b[04m\u001b[36m.\u001b[39;49;00m\u001b[04m\u001b[36mdataset\u001b[39;49;00m\u001b[04m\u001b[36m.\u001b[39;49;00m\u001b[04m\u001b[36mrepository\u001b[39;49;00m\u001b[04m\u001b[36m.\u001b[39;49;00m\u001b[04m\u001b[36mdatasets\u001b[39;49;00m \u001b[34mimport\u001b[39;49;00m get_dataset, dataset_recipes\n",
      "\u001b[34mfrom\u001b[39;49;00m \u001b[04m\u001b[36mgluonts\u001b[39;49;00m\u001b[04m\u001b[36m.\u001b[39;49;00m\u001b[04m\u001b[36mmodel\u001b[39;49;00m\u001b[04m\u001b[36m.\u001b[39;49;00m\u001b[04m\u001b[36mdeepar\u001b[39;49;00m \u001b[34mimport\u001b[39;49;00m DeepAREstimator\n",
      "\u001b[34mfrom\u001b[39;49;00m \u001b[04m\u001b[36mgluonts\u001b[39;49;00m\u001b[04m\u001b[36m.\u001b[39;49;00m\u001b[04m\u001b[36mtrainer\u001b[39;49;00m \u001b[34mimport\u001b[39;49;00m Trainer\n",
      "\u001b[34mfrom\u001b[39;49;00m \u001b[04m\u001b[36mgluonts\u001b[39;49;00m\u001b[04m\u001b[36m.\u001b[39;49;00m\u001b[04m\u001b[36mdataset\u001b[39;49;00m\u001b[04m\u001b[36m.\u001b[39;49;00m\u001b[04m\u001b[36mutil\u001b[39;49;00m \u001b[34mimport\u001b[39;49;00m to_pandas\n",
      "\u001b[34mimport\u001b[39;49;00m \u001b[04m\u001b[36mmxnet\u001b[39;49;00m \u001b[34mas\u001b[39;49;00m \u001b[04m\u001b[36mmx\u001b[39;49;00m\n",
      "\u001b[34mfrom\u001b[39;49;00m \u001b[04m\u001b[36mgluonts\u001b[39;49;00m\u001b[04m\u001b[36m.\u001b[39;49;00m\u001b[04m\u001b[36mdataset\u001b[39;49;00m \u001b[34mimport\u001b[39;49;00m common\n",
      "\u001b[34mfrom\u001b[39;49;00m \u001b[04m\u001b[36mgluonts\u001b[39;49;00m\u001b[04m\u001b[36m.\u001b[39;49;00m\u001b[04m\u001b[36mdataset\u001b[39;49;00m\u001b[04m\u001b[36m.\u001b[39;49;00m\u001b[04m\u001b[36mrepository\u001b[39;49;00m \u001b[34mimport\u001b[39;49;00m datasets\n",
      "\u001b[34mfrom\u001b[39;49;00m \u001b[04m\u001b[36mgluonts\u001b[39;49;00m\u001b[04m\u001b[36m.\u001b[39;49;00m\u001b[04m\u001b[36mevaluation\u001b[39;49;00m\u001b[04m\u001b[36m.\u001b[39;49;00m\u001b[04m\u001b[36mbacktest\u001b[39;49;00m \u001b[34mimport\u001b[39;49;00m make_evaluation_predictions\n",
      "\u001b[34mfrom\u001b[39;49;00m \u001b[04m\u001b[36mgluonts\u001b[39;49;00m\u001b[04m\u001b[36m.\u001b[39;49;00m\u001b[04m\u001b[36mevaluation\u001b[39;49;00m \u001b[34mimport\u001b[39;49;00m Evaluator\n",
      "\u001b[34mfrom\u001b[39;49;00m \u001b[04m\u001b[36mgluonts\u001b[39;49;00m\u001b[04m\u001b[36m.\u001b[39;49;00m\u001b[04m\u001b[36mmodel\u001b[39;49;00m\u001b[04m\u001b[36m.\u001b[39;49;00m\u001b[04m\u001b[36mpredictor\u001b[39;49;00m \u001b[34mimport\u001b[39;49;00m Predictor\n",
      "\u001b[34mfrom\u001b[39;49;00m \u001b[04m\u001b[36mgluonts\u001b[39;49;00m\u001b[04m\u001b[36m.\u001b[39;49;00m\u001b[04m\u001b[36mdataset\u001b[39;49;00m\u001b[04m\u001b[36m.\u001b[39;49;00m\u001b[04m\u001b[36mcommon\u001b[39;49;00m \u001b[34mimport\u001b[39;49;00m ListDataset\n",
      "\n",
      "\n",
      "\u001b[37m# Logging: print logs analogously to Sagemaker.\u001b[39;49;00m\n",
      "logger = logging.getLogger(\u001b[31m__name__\u001b[39;49;00m)\n",
      "\n",
      "\u001b[34mclass\u001b[39;49;00m \u001b[04m\u001b[32mModelHandler\u001b[39;49;00m(\u001b[36mobject\u001b[39;49;00m):\n",
      "    \u001b[33m\"\"\"\u001b[39;49;00m\n",
      "\u001b[33m    Keras VGG pre-trained model classifier\u001b[39;49;00m\n",
      "\u001b[33m    \"\"\"\u001b[39;49;00m\n",
      "\n",
      "    \u001b[34mdef\u001b[39;49;00m \u001b[32m__init__\u001b[39;49;00m(\u001b[36mself\u001b[39;49;00m):\n",
      "        \u001b[36mself\u001b[39;49;00m.initialized = \u001b[34mFalse\u001b[39;49;00m\n",
      "        \u001b[36mself\u001b[39;49;00m.model = \u001b[34mNone\u001b[39;49;00m\n",
      "\n",
      "    \u001b[34mdef\u001b[39;49;00m \u001b[32minitialize\u001b[39;49;00m(\u001b[36mself\u001b[39;49;00m, context):\n",
      "        \u001b[33m\"\"\"\u001b[39;49;00m\n",
      "\u001b[33m        Initialize model. This will be called during model loading time\u001b[39;49;00m\n",
      "\u001b[33m        :param context: Initial context contains model server system properties.\u001b[39;49;00m\n",
      "\u001b[33m        :return: None\u001b[39;49;00m\n",
      "\u001b[33m        \"\"\"\u001b[39;49;00m\n",
      "        \u001b[36mself\u001b[39;49;00m.initialized = \u001b[34mTrue\u001b[39;49;00m\n",
      "        properties = context.system_properties\n",
      "        model_dir = properties.get(\u001b[33m\"\u001b[39;49;00m\u001b[33mmodel_dir\u001b[39;49;00m\u001b[33m\"\u001b[39;49;00m) \n",
      "        \n",
      "        logger.info(\u001b[33mf\u001b[39;49;00m\u001b[33m\"\u001b[39;49;00m\u001b[33mLoading model from \u001b[39;49;00m\u001b[33m{model_dir}\u001b[39;49;00m\u001b[33m\"\u001b[39;49;00m)\n",
      "        \u001b[36mself\u001b[39;49;00m.model = Predictor.deserialize(Path(model_dir))\n",
      "       \n",
      "\n",
      "    \u001b[34mdef\u001b[39;49;00m \u001b[32mpreprocess\u001b[39;49;00m(\u001b[36mself\u001b[39;49;00m, request):\n",
      "        \u001b[33m\"\"\"\u001b[39;49;00m\n",
      "\u001b[33m        Transform raw input into model input data.\u001b[39;49;00m\n",
      "\u001b[33m        :param request: list of raw requests\u001b[39;49;00m\n",
      "\u001b[33m        :return: list of preprocessed model input data\u001b[39;49;00m\n",
      "\u001b[33m        \"\"\"\u001b[39;49;00m\n",
      "\n",
      "        deser_data = pd.Series(request[\u001b[34m0\u001b[39;49;00m][\u001b[33m\"\u001b[39;49;00m\u001b[33mbody\u001b[39;49;00m\u001b[33m\"\u001b[39;49;00m])\n",
      "        deser_data.index = [i[:\u001b[34m18\u001b[39;49;00m] \u001b[34mfor\u001b[39;49;00m i \u001b[35min\u001b[39;49;00m deser_data.index] \u001b[37m# stripping timezone info\u001b[39;49;00m\n",
      "    \n",
      "        test_data = ListDataset([{\u001b[33m\"\u001b[39;49;00m\u001b[33mstart\u001b[39;49;00m\u001b[33m\"\u001b[39;49;00m: deser_data.index[\u001b[34m0\u001b[39;49;00m],\n",
      "                                  \u001b[33m\"\u001b[39;49;00m\u001b[33mtarget\u001b[39;49;00m\u001b[33m\"\u001b[39;49;00m: deser_data.values,\n",
      "                                  \u001b[33m\"\u001b[39;49;00m\u001b[33mfeat_static_cat\u001b[39;49;00m\u001b[33m\"\u001b[39;49;00m:[\u001b[34m0\u001b[39;49;00m]}], \u001b[37m# Defining feat_static_cat seems like stub because of GluonTS underlying API issues.\u001b[39;49;00m\n",
      "                                freq=\u001b[33m\"\u001b[39;49;00m\u001b[33m1H\u001b[39;49;00m\u001b[33m\"\u001b[39;49;00m)\n",
      "\n",
      "        \u001b[34mreturn\u001b[39;49;00m test_data\n",
      "\n",
      "    \u001b[34mdef\u001b[39;49;00m \u001b[32minference\u001b[39;49;00m(\u001b[36mself\u001b[39;49;00m, model_input):\n",
      "        \u001b[33m\"\"\"\u001b[39;49;00m\n",
      "\u001b[33m        Internal inference methods\u001b[39;49;00m\n",
      "\u001b[33m        :param model_input: transformed model input data list\u001b[39;49;00m\n",
      "\u001b[33m        :return: list of inference output in numpy array\u001b[39;49;00m\n",
      "\u001b[33m        \"\"\"\u001b[39;49;00m\n",
      "        forecast_it, ts_it = make_evaluation_predictions(model_input, \u001b[36mself\u001b[39;49;00m.model,  num_samples=\u001b[34m100\u001b[39;49;00m)\n",
      "        \n",
      "        \u001b[34mreturn\u001b[39;49;00m forecast_it\n",
      "\n",
      "    \u001b[34mdef\u001b[39;49;00m \u001b[32mpostprocess\u001b[39;49;00m(\u001b[36mself\u001b[39;49;00m, forecast_it):\n",
      "        \u001b[33m\"\"\"\u001b[39;49;00m\n",
      "\u001b[33m        Post processing step - converts predictions to str\u001b[39;49;00m\n",
      "\u001b[33m        :param inference_output: predictions as numpy\u001b[39;49;00m\n",
      "\u001b[33m        :return: list of inference output as string\u001b[39;49;00m\n",
      "\u001b[33m        \"\"\"\u001b[39;49;00m\n",
      "        response_body = json.dumps({\u001b[33m'\u001b[39;49;00m\u001b[33mpredictions\u001b[39;49;00m\u001b[33m'\u001b[39;49;00m:\u001b[36mlist\u001b[39;49;00m(forecast_it)[\u001b[34m0\u001b[39;49;00m].samples.tolist()[\u001b[34m0\u001b[39;49;00m]})\n",
      "        logger.info(\u001b[33m\"\u001b[39;49;00m\u001b[33mCompleted predictions successfully.\u001b[39;49;00m\u001b[33m\"\u001b[39;49;00m)\n",
      "    \n",
      "        \u001b[34mreturn\u001b[39;49;00m [response_body]\n",
      "\n",
      "        \n",
      "    \u001b[34mdef\u001b[39;49;00m \u001b[32mhandle\u001b[39;49;00m(\u001b[36mself\u001b[39;49;00m, data, context):\n",
      "        \u001b[33m\"\"\"\u001b[39;49;00m\n",
      "\u001b[33m        Call preprocess, inference and post-process functions\u001b[39;49;00m\n",
      "\u001b[33m        :param data: input data\u001b[39;49;00m\n",
      "\u001b[33m        :param context: mms context\u001b[39;49;00m\n",
      "\u001b[33m        \"\"\"\u001b[39;49;00m\n",
      "        \n",
      "        model_input = \u001b[36mself\u001b[39;49;00m.preprocess(data)\n",
      "        model_out = \u001b[36mself\u001b[39;49;00m.inference(model_input)\n",
      "        out = \u001b[36mself\u001b[39;49;00m.postprocess(model_out)\n",
      "        \n",
      "        \u001b[34mreturn\u001b[39;49;00m out\n",
      "    \n",
      "_service = ModelHandler()\n",
      "\n",
      "\n",
      "\u001b[34mdef\u001b[39;49;00m \u001b[32mhandle\u001b[39;49;00m(data, context):\n",
      "    \u001b[34mif\u001b[39;49;00m \u001b[35mnot\u001b[39;49;00m _service.initialized:\n",
      "        _service.initialize(context)\n",
      "\n",
      "    \u001b[34mif\u001b[39;49;00m data \u001b[35mis\u001b[39;49;00m \u001b[34mNone\u001b[39;49;00m:\n",
      "        \u001b[34mreturn\u001b[39;49;00m \u001b[34mNone\u001b[39;49;00m\n",
      "\n",
      "    \u001b[34mreturn\u001b[39;49;00m _service.handle(data, context)\n"
     ]
    }
   ],
   "source": [
    "! pygmentize serving.py"
   ]
  },
  {
   "cell_type": "markdown",
   "metadata": {},
   "source": [
    "## Package Model\n",
    "\n",
    "MMS requires model to be packaged. So let's download trained model first."
   ]
  },
  {
   "cell_type": "code",
   "execution_count": 133,
   "metadata": {},
   "outputs": [
    {
     "name": "stdout",
     "output_type": "stream",
     "text": [
      "download: s3://sagemaker-us-east-1-553020858742/mxnet-training-2020-12-11-23-40-10-418/output/model.tar.gz to ./model1.tar.gz\n",
      "download: s3://sagemaker-us-east-1-553020858742/mxnet-training-2020-12-11-23-40-10-418/output/model.tar.gz to ./model2.tar.gz\n"
     ]
    }
   ],
   "source": [
    "! aws s3 cp s3://sagemaker-us-east-1-553020858742/mxnet-training-2020-12-11-23-40-10-418/output/model.tar.gz model1.tar.gz\n",
    "! aws s3 cp s3://sagemaker-us-east-1-553020858742/mxnet-training-2020-12-11-23-40-10-418/output/model.tar.gz model2.tar.gz"
   ]
  },
  {
   "cell_type": "code",
   "execution_count": 136,
   "metadata": {},
   "outputs": [],
   "source": [
    "! mkdir -p model2 && tar -xzf model2.tar.gz -C model2\n",
    "! mkdir -p model1 && tar -xzf model1.tar.gz -C model1\n",
    "\n",
    "# copy inference scripts to models directory\n",
    "! cp serving.py model1/serving.py\n",
    "! cp serving.py model2/serving.py"
   ]
  },
  {
   "cell_type": "code",
   "execution_count": 137,
   "metadata": {},
   "outputs": [
    {
     "name": "stdout",
     "output_type": "stream",
     "text": [
      "WARNING - Overwriting model_store/model1.mar ...\n"
     ]
    }
   ],
   "source": [
    "# Archive models\n",
    "\n",
    "!model-archiver --model-name model1 -f --model-path model1 --handler serving:handle --export-path model_store    \n",
    "!model-archiver --model-name model2 -f --model-path model2 --handler serving:handle --export-path model_store    "
   ]
  },
  {
   "cell_type": "markdown",
   "metadata": {},
   "source": [
    "## Start server locally"
   ]
  },
  {
   "cell_type": "code",
   "execution_count": null,
   "metadata": {},
   "outputs": [],
   "source": [
    "!multi-model-server --start --models model1=model1.mar, model2=model2.mar --model-store model_store\n",
    "#multi-model-server --stop"
   ]
  },
  {
   "cell_type": "code",
   "execution_count": 25,
   "metadata": {},
   "outputs": [
    {
     "name": "stdout",
     "output_type": "stream",
     "text": [
      "Requirement already satisfied: requests in /home/ec2-user/anaconda3/envs/mxnet_p36/lib/python3.6/site-packages (2.22.0)\n",
      "Requirement already satisfied: idna<2.9,>=2.5 in /home/ec2-user/anaconda3/envs/mxnet_p36/lib/python3.6/site-packages (from requests) (2.8)\n",
      "Requirement already satisfied: urllib3!=1.25.0,!=1.25.1,<1.26,>=1.21.1 in /home/ec2-user/anaconda3/envs/mxnet_p36/lib/python3.6/site-packages (from requests) (1.25.10)\n",
      "Requirement already satisfied: certifi>=2017.4.17 in /home/ec2-user/anaconda3/envs/mxnet_p36/lib/python3.6/site-packages (from requests) (2020.6.20)\n",
      "Requirement already satisfied: chardet<3.1.0,>=3.0.2 in /home/ec2-user/anaconda3/envs/mxnet_p36/lib/python3.6/site-packages (from requests) (3.0.4)\n",
      "\u001b[33mWARNING: You are using pip version 20.0.2; however, version 20.3.1 is available.\n",
      "You should consider upgrading via the '/home/ec2-user/anaconda3/envs/mxnet_p36/bin/python -m pip install --upgrade pip' command.\u001b[0m\n"
     ]
    }
   ],
   "source": [
    "! pip install requests"
   ]
  },
  {
   "cell_type": "code",
   "execution_count": null,
   "metadata": {},
   "outputs": [],
   "source": [
    "### Test inference on model1 and model2"
   ]
  },
  {
   "cell_type": "code",
   "execution_count": 141,
   "metadata": {},
   "outputs": [],
   "source": [
    "\n",
    "# send inference request\n",
    "from sagemaker.predictor import json_serializer, json_deserializer\n",
    "import requests\n",
    "\n",
    "# Prepare data to send over wire for forecasting\n",
    "test_entry = next(iter(dataset.test))\n",
    "test_series = to_pandas(test_entry)\n",
    "# json_data = test_series.to_json(date_format=\"epoch\", date_unit='s' )\n",
    "json_data = test_series.to_json(date_format=\"iso\")\n",
    "dict_from_json = json.loads(json_data)\n",
    "formatted_dict = {k[:19]:v for k,v in dict_from_json.items()}\n",
    "# payload = formatted_dict\n",
    "payload = json_data\n",
    "\n",
    "\n",
    "# # Parameters of Sagemaker predictors\n",
    "content_type = 'application/json'\n",
    "accept_type = None\n",
    "headers = {'content-type': content_type, 'accept': accept_type}\n",
    "\n",
    "url=\"http://127.0.0.1:8080\"\n",
    "model1_name=\"model1\"\n",
    "model2_name=\"model2\"\n",
    "\n",
    "response1 = requests.post(f\"{url}/predictions/{model1_name}\", data=payload, headers=headers)\n",
    "response2 = requests.post(f\"{url}/predictions/{model2_name}\", data=payload, headers=headers)\n"
   ]
  },
  {
   "cell_type": "code",
   "execution_count": 142,
   "metadata": {},
   "outputs": [
    {
     "name": "stdout",
     "output_type": "stream",
     "text": [
      "b'{\"predictions\": [4.333353042602539, 1.5298157930374146, 6.825551509857178, 7.059480667114258, 11.032137870788574, 13.160388946533203, 12.286589622497559, 13.068629264831543, 17.015460968017578, 15.53531265258789, 18.708906173706055, 13.546443939208984, 19.270240783691406, 21.95366096496582, 10.91171932220459, 13.310141563415527, 13.148355484008789, 7.866537094116211, 10.869327545166016, 14.35938549041748, 8.416492462158203, 13.05472469329834, 8.237415313720703, 7.409308910369873]}'\n",
      "b'{\"predictions\": [4.333353042602539, 1.5298157930374146, 6.825551509857178, 7.059480667114258, 11.032137870788574, 13.160388946533203, 12.286589622497559, 13.068629264831543, 17.015460968017578, 15.53531265258789, 18.708906173706055, 13.546443939208984, 19.270240783691406, 21.95366096496582, 10.91171932220459, 13.310141563415527, 13.148355484008789, 7.866537094116211, 10.869327545166016, 14.35938549041748, 8.416492462158203, 13.05472469329834, 8.237415313720703, 7.409308910369873]}'\n"
     ]
    }
   ],
   "source": [
    "print(response1.content)\n",
    "print(response2.content)"
   ]
  },
  {
   "cell_type": "code",
   "execution_count": 140,
   "metadata": {},
   "outputs": [
    {
     "data": {
      "image/png": "[encoded data removed]",
      "text/plain": [
       "<Figure size 432x288 with 1 Axes>"
      ]
     },
     "metadata": {
      "needs_background": "light"
     },
     "output_type": "display_data"
    }
   ],
   "source": [
    "import numpy as np\n",
    "\n",
    "historic_72 = test_series.tolist()[-72:]\n",
    "predicted_24 = json.loads(response.content)['predictions']\n",
    "\n",
    "plt.plot(np.arange(72), historic_72)\n",
    "plt.plot(np.arange(72, 96), predicted_24)\n",
    "plt.legend(['historic data for 72hr', 'prediction for 24hr'], loc='upper right')\n",
    "plt.ylabel('kWh')\n",
    "plt.xlabel('hours')\n",
    "\n",
    "plt.show()"
   ]
  },
  {
   "cell_type": "code",
   "execution_count": null,
   "metadata": {},
   "outputs": [],
   "source": [
    "!curl \"http://localhost:8081/models/model1\""
   ]
  },
  {
   "cell_type": "code",
   "execution_count": null,
   "metadata": {},
   "outputs": [],
   "source": [
    "!curl -X OPTIONS http://localhost:8080"
   ]
  },
  {
   "cell_type": "markdown",
   "metadata": {},
   "source": [
    "# [DEPRECATED] Creating forecasting APIs\n",
    "\n",
    "To serve any model using Sagemaker managed inference endpoints, you will need to implement two key components in your training script: loading trained model and model serving. Sagemaker supports following Python methods to implement these components:\n",
    "\n",
    "- **model_fn()** - This method deserialize model artifacts into trained model which will be used during inference. If you don’t provide a model_fn function, the model server uses a default model_fn function. The default function works with MXNet Module model objects saved via the default save function. As in this lab we are using built-in GluonTS model and not MXNet Module model, we'll need to implement custom **model_fn**.\n",
    "\n",
    "- **transform_fn(model, request_body, content_type, accept_type)** - This method request from end user and returns predictions. This one function should handle processing the input, performing a prediction, and processing the output. The return object should be one of the following: \n",
    "    - a tuple with two items: the response data and accept_type (the content type of the response data), OR\n",
    "    - the response data: (the content type of the response is set to either the accept header in the initial request or default to “application/json”)\n",
    "\n",
    "See more details on preparing inference script for Sagemaker endpoint [here](https://sagemaker.readthedocs.io/en/stable/using_mxnet.html#for-versions-1-3-and-higher)."
   ]
  },
  {
   "cell_type": "code",
   "execution_count": null,
   "metadata": {},
   "outputs": [],
   "source": [
    "from sagemaker.predictor import json_serializer, json_deserializer\n",
    "\n",
    "predictor = mxnet_estimator.deploy(initial_instance_count=1, \n",
    "                                   instance_type=\"ml.c4.xlarge\"\n",
    "                                  )"
   ]
  },
  {
   "cell_type": "code",
   "execution_count": null,
   "metadata": {},
   "outputs": [],
   "source": [
    "from sagemaker.predictor import json_serializer, json_deserializer\n",
    "\n",
    "# Prepare data to send over wire for forecasting\n",
    "test_entry = next(iter(dataset.test))\n",
    "test_series = to_pandas(test_entry)\n",
    "json_data = test_series.to_json()\n",
    "\n",
    "\n",
    "# Parameters of Sagemaker predictors\n",
    "predictor.content_type = 'application/json'\n",
    "predictor.deserializer = json_deserializer\n",
    "predictor.serializer = None # If None, then ByteSerializer is chosen.\n",
    "\n",
    "\n",
    "# Calling predictor\n",
    "result = predictor.predict(json_data)"
   ]
  },
  {
   "cell_type": "markdown",
   "metadata": {},
   "source": [
    "Now let's plot our predictions along with historical data."
   ]
  },
  {
   "cell_type": "code",
   "execution_count": null,
   "metadata": {},
   "outputs": [],
   "source": [
    "historic_72 = test_series.tolist()[-72:]\n",
    "predicted_24 = result['predictions']\n",
    "\n",
    "plt.plot(np.arange(72), historic_72)\n",
    "plt.plot(np.arange(72, 96), predicted_24)\n",
    "plt.legend(['historic data for 72hr', 'prediction for 24hr'], loc='upper right')\n",
    "plt.ylabel('kWh')\n",
    "plt.xlabel('hours')\n",
    "\n",
    "plt.show()"
   ]
  },
  {
   "cell_type": "markdown",
   "metadata": {},
   "source": [
    "In the end, let's delete forecasting endpoint not avoid any extra costs."
   ]
  },
  {
   "cell_type": "code",
   "execution_count": null,
   "metadata": {},
   "outputs": [],
   "source": [
    "predictor.delete_endpoint()"
   ]
  },
  {
   "cell_type": "markdown",
   "metadata": {},
   "source": [
    "# HyperParameter Optimization (optional)\n",
    "\n",
    "Amazon SageMaker automatic model tuning, also known as hyperparameter tuning, finds the best version of a model by running many training jobs on your dataset using the algorithm and ranges of hyperparameters that you specify. It then chooses the hyperparameter values that result in a model that performs the best, as measured by a metric that you choose.\n",
    "\n",
    "Let's schedule tuning job and explore which combination of hypterparameters leads to better results.\n",
    "\n",
    "**Note**: hyperparameter tuning will take significant time. You can manage training time by chaning max_jobs and max_parallel_jobs."
   ]
  },
  {
   "cell_type": "code",
   "execution_count": null,
   "metadata": {},
   "outputs": [],
   "source": [
    "# Define ranges for tunable parameters. Note, some of parameters have logarithmic scale.\n",
    "hyperparameter_ranges = {\n",
    "    'context-length' : IntegerParameter(12, 70),\n",
    "    'dropout' :  ContinuousParameter(0, 0.5),\n",
    "    'num-layers' : IntegerParameter(1, 20, scaling_type='Logarithmic'),\n",
    "    'num-cells' : IntegerParameter(20, 200, scaling_type='Logarithmic'),\n",
    "    'use-static-features': CategoricalParameter([True, False])\n",
    "}\n",
    "\n",
    "# Define metrics which Sagemaker needs to capture during training.\n",
    "metric_definitions = [{'Name': 'final-loss', 'Regex': 'Final loss: ([0-9\\.]+)'},\n",
    "                      {'Name': 'avg-epoch-loss', 'Regex': 'avg_epoch_loss=([0-9\\.]+)' },\n",
    "                      {'Name': 'MASE', 'Regex': '\\'MASE\\': ([0-9\\.]+)'}, # mean absolute scaled error - mean absolute error of the forecast values, divided by the mean absolute error of the in-sample one-step naive forecast\n",
    "                      {'Name': 'sMAPE', 'Regex': '\\'sMAPE\\': ([0-9\\.]+)'}, # symmetric mean absolute percentage error\n",
    "                      {'Name': 'RMSE', 'Regex': '\\'RMSE\\': ([0-9\\.]+)'}, # root mean square error\n",
    "                      {'Name': 'NRMSE', 'Regex': '\\'NRMSE\\': ([0-9\\.]+)'}, # normalized root mean square error                      \n",
    "                     ]"
   ]
  },
  {
   "cell_type": "markdown",
   "metadata": {},
   "source": [
    "\n",
    "## LAB INSTRUCTIONS\n",
    "- set **objective_metric_name** as 'NRMSE' - normalized root square error. Sagemaker will use this metric to define which combination of hyperparameters is the best;\n",
    "- set **max_parallel_jobs** as 2 - this is number of remote nodes which Sagemaker will use for training;\n",
    "- set **max_jobs** as 10 - this is total number of training jobs and hyperparameter combinations which Sagemaker will execute;\n",
    "- set **'epochs'** as '5' - this number of epochs in each training jobs."
   ]
  },
  {
   "cell_type": "code",
   "execution_count": null,
   "metadata": {},
   "outputs": [],
   "source": [
    "objective_metric_name =      # follow instructions above\n",
    "\n",
    "hpo_model = MXNet(entry_point=entry_point,\n",
    "          source_dir=source_dir,\n",
    "          py_version='py3',\n",
    "          role=role, \n",
    "          train_instance_count=1, \n",
    "          train_instance_type=train_instance_type,\n",
    "          hyperparameters={\n",
    "              'epochs' :      , # follow instructions above\n",
    "              'use-static-features' : False,\n",
    "          },\n",
    "          input_mode='File',\n",
    "          train_max_run=7200,\n",
    "          framework_version='1.6.0')\n",
    "\n",
    "\n",
    "hpo_tuner = HyperparameterTuner(hpo_model,\n",
    "                            objective_metric_name,\n",
    "                            hyperparameter_ranges,\n",
    "                            metric_definitions,\n",
    "                            max_jobs=           , # follow instructions above\n",
    "                            max_parallel_jobs=  , # follow instructions above\n",
    "                            objective_type=\"Minimize\"\n",
    "                           )\n",
    "\n",
    "# HPO training\n",
    "hpo_tuner.fit(inputs=s3_data_uri)"
   ]
  },
  {
   "cell_type": "markdown",
   "metadata": {},
   "source": [
    "\n"
   ]
  },
  {
   "cell_type": "markdown",
   "metadata": {},
   "source": [
    "## Summary of Lab\n",
    "During this lab you learned following:\n",
    "- how to work preprocess time-series data using GluonTS;\n",
    "- how to use built-in models in GluonTS and DeepAR specifically;\n",
    "- how to do distirbuted training and hyperparameter tuning using Sagemaker.\n"
   ]
  }
 ],
 "metadata": {
  "kernelspec": {
   "display_name": "conda_mxnet_p36",
   "language": "python",
   "name": "conda_mxnet_p36"
  },
  "language_info": {
   "codemirror_mode": {
    "name": "ipython",
    "version": 3
   },
   "file_extension": ".py",
   "mimetype": "text/x-python",
   "name": "python",
   "nbconvert_exporter": "python",
   "pygments_lexer": "ipython3",
   "version": "3.6.10"
  }
 },
 "nbformat": 4,
 "nbformat_minor": 4
}
